{
 "cells": [
  {
   "cell_type": "code",
   "execution_count": null,
   "metadata": {},
   "outputs": [],
   "source": [
    "### select 190 pics from each class\n",
    "import re\n",
    "import os\n",
    "\n",
    "categories = [item.replace(\"_\"+item.split(\"_\")[-1],\"\") for item in os.listdir(\"/Users/xinqunye/Desktop/2019spring/ml/data/image/mlImage/images\")if not item.startswith(\"#\")]\n",
    "cate_dict = dict.fromkeys(categories)\n",
    "for category in categories:\n",
    "    cate_dict[category] = [animal for animal in os.listdir(\"/Users/xinqunye/Desktop/2019spring/ml/data/image/mlImage/images\") if animal.startswith(category) and not animal.endswith(\"mat\")]\n",
    "save_file = open(\"annotations/new_list.txt\",\"w\")\n",
    "for cate in cate_dict:\n",
    "    for path in cate_dict[cate][0:190]:\n",
    "        save_file.write(path+\"\\n\")\n",
    "save_file.close()\n",
    "\n",
    "### #Image CLASS-ID SPECIES BREED ID\n",
    "infos = [item for item in open(\"annotations/list.txt\",'r') if not item.startswith(\"#\")]\n",
    "info_dict = {}\n",
    "for category in categories:\n",
    "    info_dict[category] = {\"class\": \"\",\"species\": \"\",\"breed\":\"\"}\n",
    "    info = [item.replace(\"\\n\",\"\") for item in infos if item.startswith(category)][0].split(\" \")\n",
    "    info_dict[category]['class'] = int(info[-3])\n",
    "    info_dict[category]['species'] = int(info[-2])\n",
    "    info_dict[category]['breed'] = int(info[-1])\n",
    "    \n",
    "info_dict\n",
    "\n"
   ]
  },
  {
   "cell_type": "code",
   "execution_count": null,
   "metadata": {},
   "outputs": [],
   "source": [
    "### select 10 class\n",
    "#ID: 1:37 Class ids\n",
    "#SPECIES: 1:Cat 2:Dog\n",
    "#BREED ID: 1-25:Cat 1:12:Dog\n",
    "#All images with 1st letter as captial are cat images\n",
    "#images with small first letter are dog images\n",
    "cats = [item for item in info_dict if info_dict[item]['species'] == 1]\n",
    "dogs = [item for item in info_dict if info_dict[item]['species'] == 2]\n",
    "cats\n",
    "dogs"
   ]
  }
 ],
 "metadata": {
  "kernelspec": {
   "display_name": "Python 3",
   "language": "python",
   "name": "python3"
  },
  "language_info": {
   "codemirror_mode": {
    "name": "ipython",
    "version": 3
   },
   "file_extension": ".py",
   "mimetype": "text/x-python",
   "name": "python",
   "nbconvert_exporter": "python",
   "pygments_lexer": "ipython3",
   "version": "3.6.8"
  }
 },
 "nbformat": 4,
 "nbformat_minor": 2
}
