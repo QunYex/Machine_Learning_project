{
 "cells": [
  {
   "cell_type": "code",
   "execution_count": 2,
   "metadata": {},
   "outputs": [
    {
     "name": "stdout",
     "output_type": "stream",
     "text": [
      "<class 'pandas.core.frame.DataFrame'>\n",
      "RangeIndex: 2126 entries, 0 to 2125\n",
      "Data columns (total 42 columns):\n",
      "b           2126 non-null int64\n",
      "e           2126 non-null int64\n",
      "AC          2126 non-null int64\n",
      "FM          2126 non-null int64\n",
      "UC          2126 non-null int64\n",
      "DL          2126 non-null int64\n",
      "DS          2126 non-null int64\n",
      "DP          2126 non-null int64\n",
      "DR          2126 non-null int64\n",
      "LB          2126 non-null int64\n",
      "AC.1        2126 non-null float64\n",
      "FM.1        2126 non-null float64\n",
      "UC.1        2126 non-null float64\n",
      "DL.1        2126 non-null float64\n",
      "DS.1        2126 non-null float64\n",
      "DP.1        2126 non-null float64\n",
      "ASTV        2126 non-null int64\n",
      "MSTV        2126 non-null float64\n",
      "ALTV        2126 non-null int64\n",
      "MLTV        2126 non-null float64\n",
      "Width       2126 non-null int64\n",
      "Min         2126 non-null int64\n",
      "Max         2126 non-null int64\n",
      "Nmax        2126 non-null int64\n",
      "Nzeros      2126 non-null int64\n",
      "Mode        2126 non-null int64\n",
      "Mean        2126 non-null int64\n",
      "Median      2126 non-null int64\n",
      "Variance    2126 non-null int64\n",
      "Tendency    2126 non-null int64\n",
      "A           2126 non-null int64\n",
      "B           2126 non-null int64\n",
      "C           2126 non-null int64\n",
      "D           2126 non-null int64\n",
      "E           2126 non-null int64\n",
      "AD          2126 non-null int64\n",
      "DE          2126 non-null int64\n",
      "LD          2126 non-null int64\n",
      "FS          2126 non-null int64\n",
      "SUSP        2126 non-null int64\n",
      "CLASS       2126 non-null int64\n",
      "NSP         2126 non-null int64\n",
      "dtypes: float64(8), int64(34)\n",
      "memory usage: 697.7 KB\n",
      "None\n"
     ]
    }
   ],
   "source": [
    "import pandas as pd\n",
    "import numpy as py\n",
    "df=pd.read_excel(open('Downloads/CTG.xls','rb'),sheet_name=\"Data\")\n",
    "print(df.info())"
   ]
  },
  {
   "cell_type": "markdown",
   "metadata": {},
   "source": [
    "Data understanding:\n",
    "\tThere are 23 features in this dataset (including the feature that we are going to predict), and I’m going to describe each data and define them with different data types, and I will explain why we assign them with their corresponding data type.\n",
    "1.\tLB (Integer):  FHR baseline (beats per minute), FHR means fetal heart rate, and FHR usually ranges from 120 to 160 beats per minute. And this data is represented by integer in hospital’s record, so we assign integer to represent this feature.\n",
    "2.\tAC (float): the number of accelerations per second. Because acceleration phenomenon is usually not occurred regularly, so the value of this feature is usually smaller than 1, and that’s the reason why we use floating number to represent this feature.\n",
    "3.\tFM (float): the number of fetal movements per second. Fetal movement is not occurred regularly (like AC), so usually the value of this feature is not an integer, so we use floating number to represent this feature.\n",
    "4.\tUC (float): the number of uterine contractions per second. Uterine contraction is also not occurred regularly, so usually the value of this feature is not an integer, so we use floating number to represent it.\n",
    "5.\tDL (float): the number of light decelerations per second. Which represent the number of heart beat rate is transformed from high frequency to low frequency, but the change is not very obvious (that is what the ‘light’ means). And it is not occurred very frequently (value is close to 0), so we use floating number to represent it.\n",
    "6.\tDS (float): the number of severe decelerations per second. This data also means the frequency of heart beat rate is transformed from high rate to low rate, and the change is obvious (that is what the ‘severe’ means). Because the frequency of this phenomenon is very low (lower than DL), so we use floating number to represent this feature.\n",
    "7.\tDP (float): number of prolonged decelerations per second. Prolonged deceleration means the heart beats rate deceleration time is abnormally long, which is nor occurs regularly, so we use floating number to represent it.\n",
    "8.\tASTV (integer): percentage of time with abnormal short-term variability. Because this data is ranging from 0 to 100 (100%), so we use integer to represent it.\n",
    "9.\tMSTV (float): mean value of short-term variability. Most value of this feature is range from 0 to 10, which means we can’t ignore the decimal part, so we use floating number to represent it.\n",
    "10.\tALTV (integer): percentage of time with abnormal long-term variability. This data represents the part of time with abnormal long variability in percentage, and the hospital’s record represent it in integer, so we use integer to represent it.\n",
    "11.\tMLTV (float): mean value of long-term variability. This value records the number of variabilities through long-term observation, and according to the hospital’s record, we keep both decimal part and integer part and use floating number to represent this data.\n",
    "12.\tWidth (integer): width of FHR histogram. Because this data represents the width of FHR (fetal heart rate), so we represent it by integer.\n",
    "13.\tMin (integer): minimum of FHR histogram. This data represents the minimum value of the FHR histogram, since all FHR value is represented in integer, we will represent this value with integer.\n",
    "14.\tMax (integer): maximum of FHR histogram. This data represents the maximum value of the FHR histogram, since all FHR value is represented in integer, we will represent it with integer.\n",
    "15.\tNmax (integer): number of peaks in FHR histogram. The number of peak values in FHR histogram, represent in integer.\n",
    "16.\tNzeros (integer): number of zero in FHR histogram. This data represents the occurrence number of zero value in FHR histogram, which is represented in integer.\n",
    "17.\tMode (integer): histogram mode.\n",
    "18.\tMean (integer): the mean value for all the value in histogram.\n",
    "19.\tMedian (integer): the median value of for all the value in histogram.\n",
    "20.\tVariance (integer): this data represents the histogram variance.\n",
    "21.\tTendency (integer): this data represents the histogram tendency. \n",
    "22.\tCLASS (integer): this data represents the FHR pattern class code (from 1 to 10), so we represent it in integer.\n",
    "23.\tNSP (integer): this data represents the fetal state class code, in the hospital’s record, they use N to represent normal, S represent suspect and P represent pathologic. So we can use char to represent this feature, but for the convenience of further analysis, we assign different integer code for them, 0 represent normal, 1 represent suspect and 2 represent pathologic, and this feature is the feature that we are going to predict.\n"
   ]
  },
  {
   "cell_type": "code",
   "execution_count": 17,
   "metadata": {},
   "outputs": [],
   "source": [
    "import matplotlib\n",
    "import missingno as mn\n",
    "import pandas as pd\n",
    "import numpy as np\n",
    "\n",
    "%matplotlib inline \n",
    "#mn.matrix(df)\n",
    "df=pd.read_excel(open('Downloads/CTG.xls','rb'),sheet_name=\"Data\")\n",
    "\n",
    "file = df.iloc[:2126,:]\n",
    "file.to_csv(\"file_result.csv\")"
   ]
  },
  {
   "cell_type": "markdown",
   "metadata": {},
   "source": [
    "Date Quality:\n",
    "\tIn this part, I will verify data quality. The first thing to do is find out if there are any missing value or duplicate data, so I use data.info() function to show the basic information of this dataset, the result describe the total number of each feature and the corresponding data type of this data. According to the result we can see that the total number of data for each feature in this dataset are all the same which is 2126, which means there are no missing data, we also use mn.matrix function (which is in missingno package) to visualize the dataset and the figure also shows there is no missing data.\n",
    "\tAfter dealing with missing data, the second step is to find out if there are any wrong data (for example, 999 years old in a dataset that we saw in class). In order to find such wrong data, we need to know the normal range of each feature and see if any data of this feature is abnormally bigger or smaller than the normal range.\n",
    "1.\tLB: According to our search, the normal range of FHR baseline, is 110 to 160 rpm. In our dataset, the minimum value of this feature is 106, and the maximum value of this feature is 160, which means there is no wrong data in this feature.\n",
    "2.\tAC: According to our search, the normal range of number of accelerations per second is 0.002. In our dataset, the minimum value of this feature is 0, the maximum value of this feature is 0.0193, and the mean value is 0.00317. which means there is no wrong data in this feature.\n",
    "3.\tCLASS: Because CLASS represent the FHR pattern class code, so the range of this feature is from 1 to 10, and in our dataset, the minimum value of this feature is 1, maximum value of this feature is 10, which means there is no wrong data in this feature.\n",
    "4.\tNSP: Because this feature represents the fetal state class node, and the hospital’s record assign three value to represent it, 1 means normal, 2 means suspect and 3 means pathologic. The maximum value of this feature is 3, and the minimum is 1, which means there is no wrong data in this feature.\n",
    "For other features in this dataset, there are no standard normal range to judge whether all the data of this feature is right, so we compare the maximum value and minimum value with the mean value of this feature, and there is no wrong data or unrealistic data for other features.\n",
    "The link for standard range of some feature\n",
    "https://thewomens.r.worldssl.net/images/uploads/downloadable-records/clinical-guidelines/ctg-interpretation-and-response_160517.pdf\n"
   ]
  },
  {
   "cell_type": "code",
   "execution_count": null,
   "metadata": {},
   "outputs": [],
   "source": []
  },
  {
   "cell_type": "code",
   "execution_count": null,
   "metadata": {},
   "outputs": [],
   "source": []
  },
  {
   "cell_type": "code",
   "execution_count": null,
   "metadata": {},
   "outputs": [],
   "source": []
  }
 ],
 "metadata": {
  "kernelspec": {
   "display_name": "Python 3",
   "language": "python",
   "name": "python3"
  },
  "language_info": {
   "codemirror_mode": {
    "name": "ipython",
    "version": 3
   },
   "file_extension": ".py",
   "mimetype": "text/x-python",
   "name": "python",
   "nbconvert_exporter": "python",
   "pygments_lexer": "ipython3",
   "version": "3.7.1"
  }
 },
 "nbformat": 4,
 "nbformat_minor": 2
}
